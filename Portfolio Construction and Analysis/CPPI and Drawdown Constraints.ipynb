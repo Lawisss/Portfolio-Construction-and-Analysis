{
 "cells": [
  {
   "cell_type": "markdown",
   "metadata": {},
   "source": [
    "# Implementing Portfolio Insurance (CPPI) and Drawdown Constraints"
   ]
  },
  {
   "cell_type": "code",
   "execution_count": 1,
   "metadata": {},
   "outputs": [],
   "source": [
    "%load_ext autoreload\n",
    "%autoreload 2\n",
    "%matplotlib inline\n",
    "import risk_kit as rk\n",
    "import numpy as np\n",
    "import pandas as pd\n",
    "\n",
    "ind_return = rk.get_ind_returns()\n",
    "tmi_return = rk.get_total_market_index_returns()"
   ]
  },
  {
   "cell_type": "code",
   "execution_count": 2,
   "metadata": {},
   "outputs": [],
   "source": [
    "risky_r = ind_return[\"2000\":][[\"Steel\", \"Fin\", \"Beer\"]]\n",
    "#Safe Asset\n",
    "safe_r = pd.DataFrame().reindex_like(risky_r)"
   ]
  },
  {
   "cell_type": "code",
   "execution_count": 3,
   "metadata": {},
   "outputs": [],
   "source": [
    "safe_r[:] = 0.03/12\n",
    "start = 1000\n",
    "floor = 0.8"
   ]
  },
  {
   "cell_type": "code",
   "execution_count": 4,
   "metadata": {},
   "outputs": [],
   "source": [
    "def compound(r) :\n",
    "    return (1+r).prod()-1\n",
    "\n",
    "def compound2(r):\n",
    "    return np.expm1(np.log1p(r).sum())"
   ]
  },
  {
   "cell_type": "code",
   "execution_count": 5,
   "metadata": {},
   "outputs": [
    {
     "data": {
      "text/plain": [
       "Steel   -0.051696\n",
       "Fin      1.773937\n",
       "Beer     3.361349\n",
       "dtype: float64"
      ]
     },
     "execution_count": 5,
     "metadata": {},
     "output_type": "execute_result"
    }
   ],
   "source": [
    "compound(risky_r)"
   ]
  },
  {
   "cell_type": "code",
   "execution_count": 6,
   "metadata": {},
   "outputs": [
    {
     "data": {
      "text/plain": [
       "Steel   -0.051696\n",
       "Fin      1.773937\n",
       "Beer     3.361349\n",
       "dtype: float64"
      ]
     },
     "execution_count": 6,
     "metadata": {},
     "output_type": "execute_result"
    }
   ],
   "source": [
    "compound2(risky_r)"
   ]
  },
  {
   "cell_type": "code",
   "execution_count": 7,
   "metadata": {},
   "outputs": [
    {
     "name": "stdout",
     "output_type": "stream",
     "text": [
      "250 µs ± 884 ns per loop (mean ± std. dev. of 7 runs, 1000 loops each)\n"
     ]
    }
   ],
   "source": [
    "%timeit compound(risky_r)"
   ]
  },
  {
   "cell_type": "code",
   "execution_count": 8,
   "metadata": {},
   "outputs": [
    {
     "name": "stdout",
     "output_type": "stream",
     "text": [
      "226 µs ± 1.93 µs per loop (mean ± std. dev. of 7 runs, 1000 loops each)\n"
     ]
    }
   ],
   "source": [
    "%timeit compound2(risky_r)"
   ]
  },
  {
   "cell_type": "code",
   "execution_count": 10,
   "metadata": {},
   "outputs": [
    {
     "ename": "SyntaxError",
     "evalue": "invalid syntax (<ipython-input-10-6ef023295fc2>, line 21)",
     "output_type": "error",
     "traceback": [
      "\u001b[1;36m  File \u001b[1;32m\"<ipython-input-10-6ef023295fc2>\"\u001b[1;36m, line \u001b[1;32m21\u001b[0m\n\u001b[1;33m    cushion_history.iloc[step] = cushion\u001b[0m\n\u001b[1;37m    ^\u001b[0m\n\u001b[1;31mSyntaxError\u001b[0m\u001b[1;31m:\u001b[0m invalid syntax\n"
     ]
    }
   ],
   "source": [
    "dates = risky_r.index\n",
    "n_steps = len(dates)\n",
    "account_value = start\n",
    "floor_value = start*floor\n",
    "m = 3\n",
    "account_history = pd.DataFrame().reindex_like(risky_r)\n",
    "cushion_history = pd.DataFrame().reindex_like(risky_r)\n",
    "risky_w_history = pd.DataFrame().reindex_like(risky_r)\n",
    "\n",
    "for step in range(n_steps):\n",
    "    cushion = (account_value - floor_value)/account_value\n",
    "    risky_w = m*cushion\n",
    "    risky_w = np.minimum(risky_w, 1)\n",
    "    risky_w = np.maximum(risky_w, 0)\n",
    "    safe_w = 1-risky_w\n",
    "    risky_alloc = account_value*risky_w\n",
    "    safe_alloc = account_value*safe_w\n",
    "    ## update the account value for this time step\n",
    "    account_value = (risky_alloc*(risky_r.iloc[step]) + safe_alloc*safe_r.iloc[step]\n",
    "    #save trhe values so I can look at the history and plot it etc\n",
    "    cushion_history.iloc[step] = cushion\n",
    "    risky_w_history.iloc[step] = risky_w\n",
    "    account_history.iloc[step] = account_value"
   ]
  },
  {
   "cell_type": "code",
   "execution_count": null,
   "metadata": {},
   "outputs": [],
   "source": [
    "risky_wealth = start*(1+risky_r).cumprod()"
   ]
  },
  {
   "cell_type": "code",
   "execution_count": null,
   "metadata": {},
   "outputs": [],
   "source": [
    "risky_wealth.plot()"
   ]
  },
  {
   "cell_type": "code",
   "execution_count": null,
   "metadata": {},
   "outputs": [],
   "source": [
    "ax = account_history[\"Beer\"].plot(figsize=(12,6))\n",
    "risky_wealth[\"Beer\"].plot(ax=ax, style=\"k:\")\n",
    "ax.axhline(y=floor_value, color='r', linestyle='--')"
   ]
  },
  {
   "cell_type": "code",
   "execution_count": null,
   "metadata": {},
   "outputs": [],
   "source": [
    "risky_w_history.plot()"
   ]
  },
  {
   "cell_type": "code",
   "execution_count": null,
   "metadata": {},
   "outputs": [],
   "source": []
  }
 ],
 "metadata": {
  "kernelspec": {
   "display_name": "Python 3",
   "language": "python",
   "name": "python3"
  },
  "language_info": {
   "codemirror_mode": {
    "name": "ipython",
    "version": 3
   },
   "file_extension": ".py",
   "mimetype": "text/x-python",
   "name": "python",
   "nbconvert_exporter": "python",
   "pygments_lexer": "ipython3",
   "version": "3.8.3"
  }
 },
 "nbformat": 4,
 "nbformat_minor": 4
}
